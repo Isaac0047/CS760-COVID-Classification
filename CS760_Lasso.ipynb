{
 "cells": [
  {
   "cell_type": "code",
   "execution_count": 45,
   "metadata": {},
   "outputs": [],
   "source": [
    "import numpy as np\n",
    "import scipy.io\n",
    "import sklearn\n",
    "from sklearn.linear_model import Lasso\n",
    "from sklearn.model_selection import train_test_split"
   ]
  },
  {
   "cell_type": "code",
   "execution_count": 46,
   "metadata": {},
   "outputs": [
    {
     "data": {
      "text/plain": [
       "(2480, 33)"
      ]
     },
     "execution_count": 46,
     "metadata": {},
     "output_type": "execute_result"
    }
   ],
   "source": [
    "# mat = scipy.io.loadmat('Feature.mat')\n",
    "mat = scipy.io.loadmat('Feature_all_sig')\n",
    "mat['Feature_all_sig'].shape"
   ]
  },
  {
   "cell_type": "code",
   "execution_count": 47,
   "metadata": {},
   "outputs": [],
   "source": [
    "CVD     = 1252\n",
    "non_CVD = 1228\n",
    "Y = np.zeros((CVD+non_CVD,1))\n",
    "Y[:CVD] = 1"
   ]
  },
  {
   "cell_type": "code",
   "execution_count": 50,
   "metadata": {},
   "outputs": [],
   "source": [
    "X_train, X_test, Y_train, Y_test = train_test_split(mat['Feature_all_sig'], Y, test_size=0.2)"
   ]
  },
  {
   "cell_type": "code",
   "execution_count": 51,
   "metadata": {},
   "outputs": [
    {
     "name": "stdout",
     "output_type": "stream",
     "text": [
      "(1984, 33) (1984, 1) (496, 33) (496, 1)\n"
     ]
    }
   ],
   "source": [
    "print(X_train.shape, Y_train.shape, X_test.shape, Y_test.shape)"
   ]
  },
  {
   "cell_type": "code",
   "execution_count": 52,
   "metadata": {},
   "outputs": [
    {
     "name": "stdout",
     "output_type": "stream",
     "text": [
      "(1984, 1) (496, 1)\n"
     ]
    }
   ],
   "source": [
    "Y_train = np.reshape(Y_train, (1984,1))\n",
    "Y_test  = np.reshape(Y_test,  (496,1))\n",
    "print(Y_train.shape, Y_test.shape)"
   ]
  },
  {
   "cell_type": "code",
   "execution_count": 53,
   "metadata": {},
   "outputs": [
    {
     "data": {
      "text/plain": [
       "Lasso(alpha=0.1)"
      ]
     },
     "execution_count": 53,
     "metadata": {},
     "output_type": "execute_result"
    }
   ],
   "source": [
    "las = Lasso(alpha=0.1, max_iter=1000)\n",
    "las.fit(X_train, Y_train)"
   ]
  },
  {
   "cell_type": "code",
   "execution_count": 54,
   "metadata": {},
   "outputs": [
    {
     "data": {
      "text/plain": [
       "array([2.75012526])"
      ]
     },
     "execution_count": 54,
     "metadata": {},
     "output_type": "execute_result"
    }
   ],
   "source": [
    "las.coef_\n",
    "las.intercept_"
   ]
  },
  {
   "cell_type": "code",
   "execution_count": 55,
   "metadata": {
    "scrolled": true
   },
   "outputs": [
    {
     "data": {
      "text/plain": [
       "array([ 0.21267529,  0.59168357,  0.54333813,  0.4570359 ,  0.45656296,\n",
       "        0.36174035,  0.37088462,  0.49674741,  0.30403716,  0.47551382,\n",
       "        0.55091831,  0.71457575,  0.56185956,  0.5853002 ,  0.18903012,\n",
       "        0.40442119,  0.39585647,  0.25839448,  0.27881006,  0.55395987,\n",
       "        0.26971098,  0.24397225,  0.95944271,  0.40832939,  0.79980625,\n",
       "        0.35180118,  0.26737024,  0.28556925,  0.54876336,  0.20596332,\n",
       "        0.66028702,  0.83888441,  0.72387934,  0.3620848 ,  0.39495517,\n",
       "        0.96306699,  0.18101766,  0.3778619 ,  0.63261557,  0.70892567,\n",
       "        0.43791716,  0.26772248,  0.40084808,  0.28150573,  0.53094035,\n",
       "        0.11014778,  0.33353966,  0.88982887,  0.56521833,  0.38494187,\n",
       "        0.29932294,  0.32596187,  0.48914951,  0.39553502,  0.44710941,\n",
       "        0.33520348,  0.38669499,  0.4248002 ,  0.34263065,  0.55054285,\n",
       "        0.35651889,  0.21800184,  0.39380621,  0.51355205,  0.35627795,\n",
       "        0.6439154 ,  0.41050784,  0.31033458,  0.60865273,  0.73155516,\n",
       "        0.25713918,  0.48107897,  0.98128592,  0.28410209,  0.86651924,\n",
       "        0.67428665,  0.61499925,  0.52933136,  0.44350447,  0.44574431,\n",
       "        0.38078692,  0.60716657,  0.5619948 ,  0.97679832,  0.32505132,\n",
       "        0.54197403,  0.47683171,  0.30526978,  0.78799663,  0.67602538,\n",
       "        0.8513257 ,  0.52751892,  0.4625127 ,  0.25319745,  0.2509843 ,\n",
       "        0.57535925,  0.6870501 ,  0.33760784,  0.52992791,  0.65744503,\n",
       "        0.71254393,  0.19318929,  0.85474218,  0.38160994,  0.45313385,\n",
       "        0.59134294,  1.0167675 ,  0.2731531 ,  0.22816986,  0.38443977,\n",
       "        0.7651681 ,  0.41276129,  0.36344076,  0.32244474,  0.77308768,\n",
       "        0.30421723,  0.6566813 ,  0.58796818,  0.49788422,  0.60003154,\n",
       "        0.461276  ,  0.33792203,  0.59883314,  0.12460588,  0.29460088,\n",
       "        0.36944004,  0.33171851,  0.36983662,  0.4351611 ,  0.39146057,\n",
       "        0.62939273,  0.54954602,  0.49935768,  0.58655148,  0.499334  ,\n",
       "        0.51528143,  0.4060371 ,  0.61767853,  0.49188823,  0.13000863,\n",
       "        0.59415259,  0.5847217 ,  0.51066632,  0.58094006,  0.48702089,\n",
       "        0.34796385,  0.34678394,  0.94072522,  0.3998256 ,  0.67433166,\n",
       "        0.08290135,  0.54592321,  0.34503473,  0.28536681,  0.85103314,\n",
       "        0.30113946,  0.56484281,  0.84856519,  0.86141237,  0.80088153,\n",
       "        0.36901196,  0.48810054,  1.43523433,  0.32647275,  0.27471319,\n",
       "        0.65210643,  0.24181976,  0.76669891,  0.8064808 ,  0.56780247,\n",
       "        0.55277183,  0.94332812,  0.52607032,  0.70183919,  0.29849259,\n",
       "        0.29090222,  0.55157858,  0.42948816,  0.63842499,  0.28799314,\n",
       "        0.5618542 ,  0.38073405,  0.27015779,  0.47906115,  0.30529877,\n",
       "        0.40658043,  0.77480909,  0.50402837,  0.35127178,  0.38803692,\n",
       "        0.80314645,  0.31264678,  0.25895235,  0.42381557,  0.45312935,\n",
       "        0.44246248,  0.41966678,  0.54257556,  0.43163946,  0.41720189,\n",
       "        0.07836319,  0.91891699,  0.29347393,  0.81419206,  0.74174653,\n",
       "        0.31153882,  0.21076175,  0.34190435,  0.29073034,  0.00814763,\n",
       "        0.70650126,  0.33496426,  0.53462683,  0.45171392,  0.8402329 ,\n",
       "        0.80216184,  1.28455086,  0.67354102,  0.32572395,  0.58251977,\n",
       "        0.65025442,  0.55198255,  0.60592291,  0.85036631,  0.62137738,\n",
       "        0.56234615,  0.1434185 ,  0.57202095,  0.73507849,  0.46314779,\n",
       "        0.5382242 ,  0.52357211,  0.58469234,  0.58445868,  0.31719506,\n",
       "        0.83945986,  0.77582473,  1.13941387,  0.51393659,  0.59738811,\n",
       "        0.55643926,  0.66059474,  0.65653905,  0.34764141,  0.5842884 ,\n",
       "        0.49719443,  0.65771727,  0.72341982,  0.67543158,  0.37691412,\n",
       "        0.63430717,  0.44071599,  0.61685013,  0.67526703,  0.72562721,\n",
       "        0.41852762,  0.52324053,  0.26454197,  0.55836336,  0.47809881,\n",
       "        0.49788856,  0.61702457,  0.38977034,  0.29050213,  0.84735565,\n",
       "        0.29874951,  0.31993019,  0.08208567,  0.5232789 ,  0.94108955,\n",
       "        0.2129874 ,  0.63654856,  0.36890889,  0.38964366,  0.65842083,\n",
       "        0.41528295,  0.69950928,  0.36164502,  0.51156504,  0.13956255,\n",
       "        0.5275683 ,  0.72887486,  0.57947333,  0.32903587,  0.61205128,\n",
       "        0.25912377,  0.03311316,  0.55183661,  0.43137942,  0.45637891,\n",
       "        0.22593155,  0.46314631,  0.17534539,  0.33303296,  0.55659409,\n",
       "        0.46574255,  0.29825852,  0.72861014,  0.79353509,  0.50036026,\n",
       "        0.54188109,  0.39149288,  0.3583492 ,  0.40687653,  0.19111044,\n",
       "        0.41401425,  0.66654901,  0.95809936, -0.12742753,  0.05001654,\n",
       "        0.98156136,  0.56946116,  0.5965803 ,  0.61387282,  0.38045863,\n",
       "        0.75995902,  0.5134356 ,  0.42505292,  0.80430638,  0.26494183,\n",
       "        0.52093712,  0.31717482,  0.04579406,  0.69461136,  0.3374505 ,\n",
       "        0.39875819,  0.29592017,  0.25150773,  0.29228226,  0.09243106,\n",
       "        0.27447364,  0.24298408,  0.12809119,  1.31556195,  0.40164494,\n",
       "        1.07696477,  0.50716624,  0.36954811,  0.37336868,  0.22435658,\n",
       "        0.38285277,  0.40547718,  0.91317372,  0.78432157,  0.57716056,\n",
       "        0.62248688,  0.62768035,  0.58830296,  0.77238813,  0.34582735,\n",
       "        0.6663178 ,  0.53733997,  0.9974613 ,  0.28016155,  0.59892196,\n",
       "        0.59422599,  0.52663227,  0.30666358,  0.78080385,  0.61022591,\n",
       "        0.98963295,  0.50529196,  0.31824193,  0.50384187,  0.44096994,\n",
       "        1.50899253,  0.35580881,  0.25013695,  0.58175049,  0.49933877,\n",
       "        0.34631515,  0.25927667,  0.25566014,  0.31488955,  0.37670505,\n",
       "        0.44962093,  0.8272404 ,  0.31713197,  0.59539396,  0.85309418,\n",
       "        0.6477803 ,  0.17060374,  1.13719276,  0.26404351,  0.25380259,\n",
       "        0.37684857,  0.23414586,  0.62475698,  0.63087733,  0.32841548,\n",
       "        0.33774891,  0.65048137,  0.43110406,  0.39851273,  1.10877777,\n",
       "        0.88661121,  0.11253747,  0.43454413,  0.57931704,  0.23993574,\n",
       "        0.6105998 ,  0.58995604,  0.53456166,  0.29354705,  0.35657535,\n",
       "        0.32323512,  0.66450962,  0.38414497,  0.69662987,  0.3410658 ,\n",
       "        0.68380649,  0.81232141,  0.33156975,  0.89609382,  0.27749251,\n",
       "        0.35834485,  0.35102558,  0.67809268,  0.73686568,  0.69297561,\n",
       "        0.59801851,  0.45289127,  0.49477664,  0.22634906,  0.43680159,\n",
       "        0.30633431,  0.48371893,  0.30302434,  0.9507738 ,  0.55938198,\n",
       "        0.68813262,  0.03849406,  0.3157537 ,  0.44166875,  0.53755189,\n",
       "        0.36618087,  0.51761033,  0.38551525,  0.67993544,  0.27860268,\n",
       "        0.72181045,  0.35820492,  0.62512817, -0.01622062,  0.48249269,\n",
       "        0.70704697,  0.553126  ,  0.5758463 ,  0.36819224,  0.48148708,\n",
       "        0.75488268,  0.55932209,  0.66747172,  0.24901551,  0.61939571,\n",
       "        0.826529  ,  0.41438546,  0.5811735 ,  0.70302527,  0.28698838,\n",
       "        0.15376699,  0.62982301,  0.15041366,  0.48096036,  0.39857325,\n",
       "        0.33697195,  0.41742322,  0.41975326,  0.54451746,  0.73316941,\n",
       "        0.47326088,  0.53681621,  0.39681891,  1.10057544,  0.7475596 ,\n",
       "        1.0405496 ,  0.79551333,  0.5159263 ,  0.27889603,  0.62303241,\n",
       "        0.6027432 ,  0.30541659,  0.41944972,  0.68679916,  0.64738271,\n",
       "        0.21963896,  0.56062229,  0.87752319,  0.52248918,  0.60304342,\n",
       "        0.61790242,  0.45554573,  0.53432145,  0.31042733,  0.52011997,\n",
       "        0.46404429])"
      ]
     },
     "execution_count": 55,
     "metadata": {},
     "output_type": "execute_result"
    }
   ],
   "source": [
    "las.predict(X_test)"
   ]
  },
  {
   "cell_type": "code",
   "execution_count": 56,
   "metadata": {},
   "outputs": [
    {
     "data": {
      "text/plain": [
       "(496,)"
      ]
     },
     "execution_count": 56,
     "metadata": {},
     "output_type": "execute_result"
    }
   ],
   "source": [
    "las.predict(X_test).shape"
   ]
  },
  {
   "cell_type": "code",
   "execution_count": 57,
   "metadata": {},
   "outputs": [],
   "source": [
    "Y_pred = np.round(las.predict(X_test))\n",
    "Y_pred = np.reshape(Y_pred, (496,1))"
   ]
  },
  {
   "cell_type": "code",
   "execution_count": 58,
   "metadata": {},
   "outputs": [
    {
     "name": "stdout",
     "output_type": "stream",
     "text": [
      "(496, 1) (496, 1) (496, 1)\n"
     ]
    }
   ],
   "source": [
    "print(Y_pred.shape, Y_test.shape, (Y_pred-Y_test).shape)"
   ]
  },
  {
   "cell_type": "code",
   "execution_count": 59,
   "metadata": {},
   "outputs": [
    {
     "data": {
      "text/plain": [
       "0.7298387096774194"
      ]
     },
     "execution_count": 59,
     "metadata": {},
     "output_type": "execute_result"
    }
   ],
   "source": [
    "1 - np.sum(abs(Y_pred-Y_test)) / Y_pred.shape[0]"
   ]
  },
  {
   "cell_type": "code",
   "execution_count": 44,
   "metadata": {},
   "outputs": [
    {
     "data": {
      "text/plain": [
       "147.0"
      ]
     },
     "execution_count": 44,
     "metadata": {},
     "output_type": "execute_result"
    }
   ],
   "source": [
    "np.sum(abs(Y_pred-Y_test))"
   ]
  },
  {
   "cell_type": "code",
   "execution_count": 15,
   "metadata": {},
   "outputs": [
    {
     "ename": "ValueError",
     "evalue": "shape mismatch: objects cannot be broadcast to a single shape",
     "output_type": "error",
     "traceback": [
      "\u001b[1;31m---------------------------------------------------------------------------\u001b[0m",
      "\u001b[1;31mValueError\u001b[0m                                Traceback (most recent call last)",
      "\u001b[1;32m<ipython-input-15-5e7182dae61b>\u001b[0m in \u001b[0;36m<module>\u001b[1;34m\u001b[0m\n\u001b[0;32m      4\u001b[0m \u001b[0mx\u001b[0m   \u001b[1;33m=\u001b[0m \u001b[0mnp\u001b[0m\u001b[1;33m.\u001b[0m\u001b[0marange\u001b[0m\u001b[1;33m(\u001b[0m\u001b[1;36m13\u001b[0m\u001b[1;33m)\u001b[0m\u001b[1;33m\u001b[0m\u001b[1;33m\u001b[0m\u001b[0m\n\u001b[0;32m      5\u001b[0m \u001b[0my\u001b[0m   \u001b[1;33m=\u001b[0m \u001b[0mlas\u001b[0m\u001b[1;33m.\u001b[0m\u001b[0mcoef_\u001b[0m\u001b[1;33m\u001b[0m\u001b[1;33m\u001b[0m\u001b[0m\n\u001b[1;32m----> 6\u001b[1;33m \u001b[0max\u001b[0m\u001b[1;33m.\u001b[0m\u001b[0mbar\u001b[0m\u001b[1;33m(\u001b[0m\u001b[0mx\u001b[0m\u001b[1;33m,\u001b[0m \u001b[0my\u001b[0m\u001b[1;33m)\u001b[0m\u001b[1;33m\u001b[0m\u001b[1;33m\u001b[0m\u001b[0m\n\u001b[0m\u001b[0;32m      7\u001b[0m \u001b[0mplt\u001b[0m\u001b[1;33m.\u001b[0m\u001b[0mshow\u001b[0m\u001b[1;33m(\u001b[0m\u001b[1;33m)\u001b[0m\u001b[1;33m\u001b[0m\u001b[1;33m\u001b[0m\u001b[0m\n",
      "\u001b[1;32m~\\miniconda3\\envs\\gpu\\lib\\site-packages\\matplotlib\\__init__.py\u001b[0m in \u001b[0;36minner\u001b[1;34m(ax, data, *args, **kwargs)\u001b[0m\n\u001b[0;32m   1563\u001b[0m     \u001b[1;32mdef\u001b[0m \u001b[0minner\u001b[0m\u001b[1;33m(\u001b[0m\u001b[0max\u001b[0m\u001b[1;33m,\u001b[0m \u001b[1;33m*\u001b[0m\u001b[0margs\u001b[0m\u001b[1;33m,\u001b[0m \u001b[0mdata\u001b[0m\u001b[1;33m=\u001b[0m\u001b[1;32mNone\u001b[0m\u001b[1;33m,\u001b[0m \u001b[1;33m**\u001b[0m\u001b[0mkwargs\u001b[0m\u001b[1;33m)\u001b[0m\u001b[1;33m:\u001b[0m\u001b[1;33m\u001b[0m\u001b[1;33m\u001b[0m\u001b[0m\n\u001b[0;32m   1564\u001b[0m         \u001b[1;32mif\u001b[0m \u001b[0mdata\u001b[0m \u001b[1;32mis\u001b[0m \u001b[1;32mNone\u001b[0m\u001b[1;33m:\u001b[0m\u001b[1;33m\u001b[0m\u001b[1;33m\u001b[0m\u001b[0m\n\u001b[1;32m-> 1565\u001b[1;33m             \u001b[1;32mreturn\u001b[0m \u001b[0mfunc\u001b[0m\u001b[1;33m(\u001b[0m\u001b[0max\u001b[0m\u001b[1;33m,\u001b[0m \u001b[1;33m*\u001b[0m\u001b[0mmap\u001b[0m\u001b[1;33m(\u001b[0m\u001b[0msanitize_sequence\u001b[0m\u001b[1;33m,\u001b[0m \u001b[0margs\u001b[0m\u001b[1;33m)\u001b[0m\u001b[1;33m,\u001b[0m \u001b[1;33m**\u001b[0m\u001b[0mkwargs\u001b[0m\u001b[1;33m)\u001b[0m\u001b[1;33m\u001b[0m\u001b[1;33m\u001b[0m\u001b[0m\n\u001b[0m\u001b[0;32m   1566\u001b[0m \u001b[1;33m\u001b[0m\u001b[0m\n\u001b[0;32m   1567\u001b[0m         \u001b[0mbound\u001b[0m \u001b[1;33m=\u001b[0m \u001b[0mnew_sig\u001b[0m\u001b[1;33m.\u001b[0m\u001b[0mbind\u001b[0m\u001b[1;33m(\u001b[0m\u001b[0max\u001b[0m\u001b[1;33m,\u001b[0m \u001b[1;33m*\u001b[0m\u001b[0margs\u001b[0m\u001b[1;33m,\u001b[0m \u001b[1;33m**\u001b[0m\u001b[0mkwargs\u001b[0m\u001b[1;33m)\u001b[0m\u001b[1;33m\u001b[0m\u001b[1;33m\u001b[0m\u001b[0m\n",
      "\u001b[1;32m~\\miniconda3\\envs\\gpu\\lib\\site-packages\\matplotlib\\axes\\_axes.py\u001b[0m in \u001b[0;36mbar\u001b[1;34m(self, x, height, width, bottom, align, **kwargs)\u001b[0m\n\u001b[0;32m   2340\u001b[0m         x, height, width, y, linewidth = np.broadcast_arrays(\n\u001b[0;32m   2341\u001b[0m             \u001b[1;31m# Make args iterable too.\u001b[0m\u001b[1;33m\u001b[0m\u001b[1;33m\u001b[0m\u001b[1;33m\u001b[0m\u001b[0m\n\u001b[1;32m-> 2342\u001b[1;33m             np.atleast_1d(x), height, width, y, linewidth)\n\u001b[0m\u001b[0;32m   2343\u001b[0m \u001b[1;33m\u001b[0m\u001b[0m\n\u001b[0;32m   2344\u001b[0m         \u001b[1;31m# Now that units have been converted, set the tick locations.\u001b[0m\u001b[1;33m\u001b[0m\u001b[1;33m\u001b[0m\u001b[1;33m\u001b[0m\u001b[0m\n",
      "\u001b[1;32m<__array_function__ internals>\u001b[0m in \u001b[0;36mbroadcast_arrays\u001b[1;34m(*args, **kwargs)\u001b[0m\n",
      "\u001b[1;32m~\\AppData\\Roaming\\Python\\Python36\\site-packages\\numpy\\lib\\stride_tricks.py\u001b[0m in \u001b[0;36mbroadcast_arrays\u001b[1;34m(*args, **kwargs)\u001b[0m\n\u001b[0;32m    262\u001b[0m     \u001b[0margs\u001b[0m \u001b[1;33m=\u001b[0m \u001b[1;33m[\u001b[0m\u001b[0mnp\u001b[0m\u001b[1;33m.\u001b[0m\u001b[0marray\u001b[0m\u001b[1;33m(\u001b[0m\u001b[0m_m\u001b[0m\u001b[1;33m,\u001b[0m \u001b[0mcopy\u001b[0m\u001b[1;33m=\u001b[0m\u001b[1;32mFalse\u001b[0m\u001b[1;33m,\u001b[0m \u001b[0msubok\u001b[0m\u001b[1;33m=\u001b[0m\u001b[0msubok\u001b[0m\u001b[1;33m)\u001b[0m \u001b[1;32mfor\u001b[0m \u001b[0m_m\u001b[0m \u001b[1;32min\u001b[0m \u001b[0margs\u001b[0m\u001b[1;33m]\u001b[0m\u001b[1;33m\u001b[0m\u001b[1;33m\u001b[0m\u001b[0m\n\u001b[0;32m    263\u001b[0m \u001b[1;33m\u001b[0m\u001b[0m\n\u001b[1;32m--> 264\u001b[1;33m     \u001b[0mshape\u001b[0m \u001b[1;33m=\u001b[0m \u001b[0m_broadcast_shape\u001b[0m\u001b[1;33m(\u001b[0m\u001b[1;33m*\u001b[0m\u001b[0margs\u001b[0m\u001b[1;33m)\u001b[0m\u001b[1;33m\u001b[0m\u001b[1;33m\u001b[0m\u001b[0m\n\u001b[0m\u001b[0;32m    265\u001b[0m \u001b[1;33m\u001b[0m\u001b[0m\n\u001b[0;32m    266\u001b[0m     \u001b[1;32mif\u001b[0m \u001b[0mall\u001b[0m\u001b[1;33m(\u001b[0m\u001b[0marray\u001b[0m\u001b[1;33m.\u001b[0m\u001b[0mshape\u001b[0m \u001b[1;33m==\u001b[0m \u001b[0mshape\u001b[0m \u001b[1;32mfor\u001b[0m \u001b[0marray\u001b[0m \u001b[1;32min\u001b[0m \u001b[0margs\u001b[0m\u001b[1;33m)\u001b[0m\u001b[1;33m:\u001b[0m\u001b[1;33m\u001b[0m\u001b[1;33m\u001b[0m\u001b[0m\n",
      "\u001b[1;32m~\\AppData\\Roaming\\Python\\Python36\\site-packages\\numpy\\lib\\stride_tricks.py\u001b[0m in \u001b[0;36m_broadcast_shape\u001b[1;34m(*args)\u001b[0m\n\u001b[0;32m    189\u001b[0m     \u001b[1;31m# use the old-iterator because np.nditer does not handle size 0 arrays\u001b[0m\u001b[1;33m\u001b[0m\u001b[1;33m\u001b[0m\u001b[1;33m\u001b[0m\u001b[0m\n\u001b[0;32m    190\u001b[0m     \u001b[1;31m# consistently\u001b[0m\u001b[1;33m\u001b[0m\u001b[1;33m\u001b[0m\u001b[1;33m\u001b[0m\u001b[0m\n\u001b[1;32m--> 191\u001b[1;33m     \u001b[0mb\u001b[0m \u001b[1;33m=\u001b[0m \u001b[0mnp\u001b[0m\u001b[1;33m.\u001b[0m\u001b[0mbroadcast\u001b[0m\u001b[1;33m(\u001b[0m\u001b[1;33m*\u001b[0m\u001b[0margs\u001b[0m\u001b[1;33m[\u001b[0m\u001b[1;33m:\u001b[0m\u001b[1;36m32\u001b[0m\u001b[1;33m]\u001b[0m\u001b[1;33m)\u001b[0m\u001b[1;33m\u001b[0m\u001b[1;33m\u001b[0m\u001b[0m\n\u001b[0m\u001b[0;32m    192\u001b[0m     \u001b[1;31m# unfortunately, it cannot handle 32 or more arguments directly\u001b[0m\u001b[1;33m\u001b[0m\u001b[1;33m\u001b[0m\u001b[1;33m\u001b[0m\u001b[0m\n\u001b[0;32m    193\u001b[0m     \u001b[1;32mfor\u001b[0m \u001b[0mpos\u001b[0m \u001b[1;32min\u001b[0m \u001b[0mrange\u001b[0m\u001b[1;33m(\u001b[0m\u001b[1;36m32\u001b[0m\u001b[1;33m,\u001b[0m \u001b[0mlen\u001b[0m\u001b[1;33m(\u001b[0m\u001b[0margs\u001b[0m\u001b[1;33m)\u001b[0m\u001b[1;33m,\u001b[0m \u001b[1;36m31\u001b[0m\u001b[1;33m)\u001b[0m\u001b[1;33m:\u001b[0m\u001b[1;33m\u001b[0m\u001b[1;33m\u001b[0m\u001b[0m\n",
      "\u001b[1;31mValueError\u001b[0m: shape mismatch: objects cannot be broadcast to a single shape"
     ]
    },
    {
     "data": {
      "image/png": "[encoded data removed]",
      "text/plain": [
       "<Figure size 432x288 with 1 Axes>"
      ]
     },
     "metadata": {
      "needs_background": "light"
     },
     "output_type": "display_data"
    }
   ],
   "source": [
    "import matplotlib.pyplot as plt\n",
    "fig = plt.figure()\n",
    "ax  = fig.add_axes([0,0,1,1])\n",
    "x   = np.arange(13)\n",
    "y   = las.coef_\n",
    "ax.bar(x, y)\n",
    "plt.show()"
   ]
  },
  {
   "cell_type": "code",
   "execution_count": 46,
   "metadata": {},
   "outputs": [
    {
     "data": {
      "text/plain": [
       "array([ 0.       , -0.0067445, -0.       ,  0.       , -0.       ,\n",
       "       -0.       ,  0.       ,  0.       ,  0.       ,  0.       ,\n",
       "        0.       ,  0.       ,  0.       ])"
      ]
     },
     "execution_count": 46,
     "metadata": {},
     "output_type": "execute_result"
    }
   ],
   "source": [
    "las.coef_"
   ]
  },
  {
   "cell_type": "code",
   "execution_count": null,
   "metadata": {},
   "outputs": [],
   "source": []
  },
  {
   "cell_type": "code",
   "execution_count": null,
   "metadata": {},
   "outputs": [],
   "source": []
  }
 ],
 "metadata": {
  "kernelspec": {
   "display_name": "gpu",
   "language": "python",
   "name": "gpu"
  },
  "language_info": {
   "codemirror_mode": {
    "name": "ipython",
    "version": 3
   },
   "file_extension": ".py",
   "mimetype": "text/x-python",
   "name": "python",
   "nbconvert_exporter": "python",
   "pygments_lexer": "ipython3",
   "version": "3.6.10"
  }
 },
 "nbformat": 4,
 "nbformat_minor": 2
}
