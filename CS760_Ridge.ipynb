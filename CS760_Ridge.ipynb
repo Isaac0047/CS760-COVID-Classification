{
 "cells": [
  {
   "cell_type": "code",
   "execution_count": 53,
   "metadata": {},
   "outputs": [],
   "source": [
    "import numpy as np\n",
    "import scipy.io\n",
    "import sklearn\n",
    "from sklearn.linear_model import Ridge\n",
    "from sklearn.model_selection import train_test_split"
   ]
  },
  {
   "cell_type": "code",
   "execution_count": 54,
   "metadata": {},
   "outputs": [],
   "source": [
    "mat = scipy.io.loadmat('Feature_all_sig.mat')\n",
    "# mat = scipy.io.loadmat('Feature_stat_tex_fftnorm')\n",
    "# mat['Feature'].shape[1]\n",
    "# Feature_norm = np.zeros((mat['Feature'].shape[0], mat['Feature'].shape[1]))\n",
    "# Feature_norm.shape"
   ]
  },
  {
   "cell_type": "code",
   "execution_count": 55,
   "metadata": {},
   "outputs": [],
   "source": [
    "# for i in range(mat['Feature'].shape[1]):\n",
    "#     max_value = np.max(np.abs(mat['Feature'][:,i]))\n",
    "#     Feature_norm[:,i] = mat['Feature'][:,i] / max_value\n",
    "    \n",
    "# index = 1\n",
    "# print(max_value, np.max(mat['Feature'][:,index]), np.max(Feature_norm[:,index]))   "
   ]
  },
  {
   "cell_type": "code",
   "execution_count": 56,
   "metadata": {},
   "outputs": [],
   "source": [
    "CVD     = 1252\n",
    "non_CVD = 1228\n",
    "Y = np.zeros((CVD+non_CVD,1))\n",
    "Y[:CVD] = 1"
   ]
  },
  {
   "cell_type": "code",
   "execution_count": 57,
   "metadata": {},
   "outputs": [],
   "source": [
    "X_train, X_test, Y_train, Y_test = train_test_split(mat['Feature_all_sig'], Y, test_size=0.2)"
   ]
  },
  {
   "cell_type": "code",
   "execution_count": 58,
   "metadata": {},
   "outputs": [
    {
     "name": "stdout",
     "output_type": "stream",
     "text": [
      "(1984, 33) (1984, 1) (496, 33) (496, 1)\n"
     ]
    }
   ],
   "source": [
    "print(X_train.shape, Y_train.shape, X_test.shape, Y_test.shape)"
   ]
  },
  {
   "cell_type": "code",
   "execution_count": 59,
   "metadata": {},
   "outputs": [
    {
     "name": "stdout",
     "output_type": "stream",
     "text": [
      "(1984, 1) (496, 1)\n"
     ]
    }
   ],
   "source": [
    "Y_train = np.reshape(Y_train, (1984,1))\n",
    "Y_test  = np.reshape(Y_test,  (496,1))\n",
    "print(Y_train.shape, Y_test.shape)"
   ]
  },
  {
   "cell_type": "code",
   "execution_count": 60,
   "metadata": {},
   "outputs": [
    {
     "data": {
      "text/plain": [
       "Ridge(max_iter=1000)"
      ]
     },
     "execution_count": 60,
     "metadata": {},
     "output_type": "execute_result"
    }
   ],
   "source": [
    "rid = Ridge(alpha=1.0, max_iter=1000)\n",
    "rid.fit(X_train, Y_train)"
   ]
  },
  {
   "cell_type": "code",
   "execution_count": 61,
   "metadata": {},
   "outputs": [
    {
     "data": {
      "text/plain": [
       "array([3.89237959])"
      ]
     },
     "execution_count": 61,
     "metadata": {},
     "output_type": "execute_result"
    }
   ],
   "source": [
    "rid.coef_\n",
    "rid.intercept_"
   ]
  },
  {
   "cell_type": "code",
   "execution_count": 62,
   "metadata": {},
   "outputs": [
    {
     "data": {
      "text/plain": [
       "array([[ 0.38962393],\n",
       "       [ 0.69049739],\n",
       "       [ 0.63997876],\n",
       "       [ 0.20721443],\n",
       "       [ 1.01735863],\n",
       "       [ 0.72935965],\n",
       "       [ 1.05584969],\n",
       "       [ 0.22820632],\n",
       "       [ 0.78428262],\n",
       "       [ 0.5052874 ],\n",
       "       [-0.01461702],\n",
       "       [ 0.36027584],\n",
       "       [ 0.50707431],\n",
       "       [ 0.48722194],\n",
       "       [ 0.61989498],\n",
       "       [ 1.19260228],\n",
       "       [ 0.29220837],\n",
       "       [ 0.58271481],\n",
       "       [ 0.61121768],\n",
       "       [ 0.96071748],\n",
       "       [ 0.19570307],\n",
       "       [ 0.56334895],\n",
       "       [ 0.25530216],\n",
       "       [ 0.56182995],\n",
       "       [ 0.62764638],\n",
       "       [ 0.38906677],\n",
       "       [ 0.52323721],\n",
       "       [ 0.91540203],\n",
       "       [ 0.57656388],\n",
       "       [ 0.18531875],\n",
       "       [ 0.85960659],\n",
       "       [ 0.14287337],\n",
       "       [ 0.17983951],\n",
       "       [ 0.34681686],\n",
       "       [ 0.5237132 ],\n",
       "       [ 0.57404053],\n",
       "       [ 0.4735222 ],\n",
       "       [ 0.18433877],\n",
       "       [ 0.34323202],\n",
       "       [ 0.30825655],\n",
       "       [ 0.91600313],\n",
       "       [ 1.24390555],\n",
       "       [ 0.15078166],\n",
       "       [ 0.08949937],\n",
       "       [ 0.70214874],\n",
       "       [ 0.04183489],\n",
       "       [ 0.46882743],\n",
       "       [ 0.15420889],\n",
       "       [ 0.13851521],\n",
       "       [ 0.34402955],\n",
       "       [ 0.12030146],\n",
       "       [ 0.35876087],\n",
       "       [ 0.08339271],\n",
       "       [ 0.36622861],\n",
       "       [ 0.40203404],\n",
       "       [ 0.15747208],\n",
       "       [ 0.89246922],\n",
       "       [ 0.32610941],\n",
       "       [ 0.82665414],\n",
       "       [ 0.11274552],\n",
       "       [ 0.14940382],\n",
       "       [ 0.1645221 ],\n",
       "       [ 0.12521704],\n",
       "       [ 0.73305733],\n",
       "       [ 0.1279515 ],\n",
       "       [-0.23539187],\n",
       "       [ 1.90554524],\n",
       "       [ 0.5501726 ],\n",
       "       [ 0.60560133],\n",
       "       [ 0.44783694],\n",
       "       [ 0.73577322],\n",
       "       [ 0.51290792],\n",
       "       [ 0.00221636],\n",
       "       [ 0.12275389],\n",
       "       [ 0.91166206],\n",
       "       [ 0.23758212],\n",
       "       [ 0.67650054],\n",
       "       [ 0.79994905],\n",
       "       [ 0.34840927],\n",
       "       [ 0.96227737],\n",
       "       [ 0.18692012],\n",
       "       [ 0.64968918],\n",
       "       [ 0.11661628],\n",
       "       [ 0.79325703],\n",
       "       [ 0.20485915],\n",
       "       [ 0.45845541],\n",
       "       [ 0.15583636],\n",
       "       [ 0.89279257],\n",
       "       [ 1.01000816],\n",
       "       [ 1.05173736],\n",
       "       [ 0.41643987],\n",
       "       [ 1.04313533],\n",
       "       [ 0.18958176],\n",
       "       [ 0.67320848],\n",
       "       [ 0.23399426],\n",
       "       [ 0.76456419],\n",
       "       [ 0.53750017],\n",
       "       [ 0.10567055],\n",
       "       [ 1.02622533],\n",
       "       [ 1.01099406],\n",
       "       [ 0.60786394],\n",
       "       [ 0.22136232],\n",
       "       [ 0.43582021],\n",
       "       [ 0.07085281],\n",
       "       [ 0.457825  ],\n",
       "       [ 0.0644234 ],\n",
       "       [ 0.81859081],\n",
       "       [ 0.27712383],\n",
       "       [ 0.21745373],\n",
       "       [ 0.75035839],\n",
       "       [ 0.11040641],\n",
       "       [ 0.25005912],\n",
       "       [ 0.29715715],\n",
       "       [ 0.31259148],\n",
       "       [ 1.02270142],\n",
       "       [ 0.24691724],\n",
       "       [ 0.32548985],\n",
       "       [ 0.84756385],\n",
       "       [ 1.16757152],\n",
       "       [ 0.8499485 ],\n",
       "       [ 0.30861401],\n",
       "       [ 0.97025145],\n",
       "       [ 0.17757094],\n",
       "       [ 0.8233844 ],\n",
       "       [ 0.70169161],\n",
       "       [ 0.15947005],\n",
       "       [ 0.66302863],\n",
       "       [ 0.02169307],\n",
       "       [ 0.00396875],\n",
       "       [ 0.83279525],\n",
       "       [ 0.15138489],\n",
       "       [ 0.648163  ],\n",
       "       [ 0.76585469],\n",
       "       [ 0.69416656],\n",
       "       [ 0.83344834],\n",
       "       [ 0.30651798],\n",
       "       [ 0.79500304],\n",
       "       [ 0.46684162],\n",
       "       [ 0.69453003],\n",
       "       [ 0.25721916],\n",
       "       [ 0.15480714],\n",
       "       [ 0.23850317],\n",
       "       [ 0.36997129],\n",
       "       [ 1.28297206],\n",
       "       [ 0.13607233],\n",
       "       [ 0.53697496],\n",
       "       [ 0.30854629],\n",
       "       [ 0.23550366],\n",
       "       [ 0.02675639],\n",
       "       [ 0.71994286],\n",
       "       [ 0.72718158],\n",
       "       [ 0.41968115],\n",
       "       [ 0.07092548],\n",
       "       [ 0.25651714],\n",
       "       [ 0.27631201],\n",
       "       [ 0.58581391],\n",
       "       [ 0.83108781],\n",
       "       [ 0.91337153],\n",
       "       [ 0.41988238],\n",
       "       [ 0.12892107],\n",
       "       [ 0.54526622],\n",
       "       [ 0.11036141],\n",
       "       [ 0.15205126],\n",
       "       [ 0.14027307],\n",
       "       [ 1.11406675],\n",
       "       [ 0.87306025],\n",
       "       [ 0.19178334],\n",
       "       [ 0.39455375],\n",
       "       [ 0.14032817],\n",
       "       [ 0.92571447],\n",
       "       [ 0.15861823],\n",
       "       [ 0.38061862],\n",
       "       [ 0.96206977],\n",
       "       [ 0.28609802],\n",
       "       [ 0.25925994],\n",
       "       [ 0.31668391],\n",
       "       [ 0.39221185],\n",
       "       [ 0.83515104],\n",
       "       [ 0.20074844],\n",
       "       [ 0.39398517],\n",
       "       [ 0.52736162],\n",
       "       [ 0.00403763],\n",
       "       [ 0.31670718],\n",
       "       [ 0.93852204],\n",
       "       [ 0.17811564],\n",
       "       [ 0.31792449],\n",
       "       [ 0.63132987],\n",
       "       [ 1.01525012],\n",
       "       [ 0.95835627],\n",
       "       [ 0.74203081],\n",
       "       [ 0.83258999],\n",
       "       [ 0.45501379],\n",
       "       [ 0.14548591],\n",
       "       [ 0.30761269],\n",
       "       [ 0.31273712],\n",
       "       [ 1.06290691],\n",
       "       [ 0.03513822],\n",
       "       [ 0.90418979],\n",
       "       [ 0.93547155],\n",
       "       [ 0.29365193],\n",
       "       [-0.17232482],\n",
       "       [ 0.30490209],\n",
       "       [ 0.49949605],\n",
       "       [ 0.37690009],\n",
       "       [ 0.36696458],\n",
       "       [ 1.21869457],\n",
       "       [ 0.66914325],\n",
       "       [ 0.76769502],\n",
       "       [ 0.2975357 ],\n",
       "       [ 0.53191242],\n",
       "       [ 0.66416329],\n",
       "       [ 0.150719  ],\n",
       "       [ 0.19946522],\n",
       "       [ 1.04878648],\n",
       "       [ 0.32897548],\n",
       "       [-0.26791477],\n",
       "       [ 0.7987253 ],\n",
       "       [ 0.17545918],\n",
       "       [ 0.22891448],\n",
       "       [ 0.28208872],\n",
       "       [ 0.91127821],\n",
       "       [ 0.15386998],\n",
       "       [ 0.22749576],\n",
       "       [-0.05343064],\n",
       "       [ 0.56789548],\n",
       "       [ 0.51312262],\n",
       "       [ 0.04203663],\n",
       "       [-0.09960068],\n",
       "       [ 1.16002375],\n",
       "       [ 0.98216819],\n",
       "       [ 0.86778575],\n",
       "       [ 0.71769073],\n",
       "       [ 0.11061439],\n",
       "       [ 0.92276912],\n",
       "       [ 0.68647741],\n",
       "       [ 0.09793316],\n",
       "       [ 0.11057303],\n",
       "       [ 1.04282721],\n",
       "       [ 0.24301979],\n",
       "       [ 0.88881827],\n",
       "       [ 0.44932887],\n",
       "       [ 0.2841986 ],\n",
       "       [ 0.45787696],\n",
       "       [-0.07181645],\n",
       "       [ 0.52183159],\n",
       "       [ 0.28422588],\n",
       "       [-0.09071166],\n",
       "       [-0.0023675 ],\n",
       "       [ 1.09261269],\n",
       "       [ 0.75231042],\n",
       "       [ 1.06850341],\n",
       "       [ 0.06859593],\n",
       "       [ 0.3287105 ],\n",
       "       [ 1.08801405],\n",
       "       [ 0.85170327],\n",
       "       [ 1.04192782],\n",
       "       [ 0.14733395],\n",
       "       [ 0.21110771],\n",
       "       [ 0.7967528 ],\n",
       "       [-0.10173981],\n",
       "       [ 0.62018757],\n",
       "       [ 0.25939807],\n",
       "       [ 1.1851956 ],\n",
       "       [ 0.62572393],\n",
       "       [ 0.19914585],\n",
       "       [ 0.65276778],\n",
       "       [ 0.50524479],\n",
       "       [ 0.60004077],\n",
       "       [ 0.2720479 ],\n",
       "       [ 0.82771624],\n",
       "       [ 0.55994908],\n",
       "       [ 0.32909353],\n",
       "       [ 0.65157356],\n",
       "       [ 0.68456148],\n",
       "       [ 0.43692898],\n",
       "       [ 0.17323544],\n",
       "       [ 0.14240006],\n",
       "       [ 0.588405  ],\n",
       "       [ 0.06165294],\n",
       "       [ 1.07911734],\n",
       "       [ 0.11188532],\n",
       "       [ 0.0319331 ],\n",
       "       [ 1.05615568],\n",
       "       [ 0.09466291],\n",
       "       [ 0.2518613 ],\n",
       "       [ 0.55481541],\n",
       "       [ 1.30829117],\n",
       "       [ 0.24909837],\n",
       "       [ 0.19999557],\n",
       "       [ 0.59606835],\n",
       "       [-0.62004002],\n",
       "       [ 0.33774212],\n",
       "       [ 0.86874533],\n",
       "       [ 0.87915188],\n",
       "       [ 0.78448087],\n",
       "       [ 0.33406074],\n",
       "       [ 0.28047951],\n",
       "       [ 0.19978378],\n",
       "       [ 1.14837239],\n",
       "       [ 0.23640012],\n",
       "       [ 0.82541927],\n",
       "       [ 0.32666548],\n",
       "       [ 0.68056688],\n",
       "       [ 0.4603508 ],\n",
       "       [ 0.98960925],\n",
       "       [ 0.51843084],\n",
       "       [ 0.05812384],\n",
       "       [ 0.12159709],\n",
       "       [ 0.45714917],\n",
       "       [ 0.55198649],\n",
       "       [ 1.19305097],\n",
       "       [ 0.19845264],\n",
       "       [ 0.74910896],\n",
       "       [ 0.91260995],\n",
       "       [ 0.07539301],\n",
       "       [ 0.33981884],\n",
       "       [ 0.83509466],\n",
       "       [ 0.61995433],\n",
       "       [ 0.19949895],\n",
       "       [ 0.18993305],\n",
       "       [ 0.53456743],\n",
       "       [ 0.18974078],\n",
       "       [ 0.40479124],\n",
       "       [ 1.03203651],\n",
       "       [ 0.24065304],\n",
       "       [ 0.34699706],\n",
       "       [ 0.65925136],\n",
       "       [ 1.35940539],\n",
       "       [ 0.23886235],\n",
       "       [ 0.72765643],\n",
       "       [ 0.49937493],\n",
       "       [ 0.96052987],\n",
       "       [ 0.82623137],\n",
       "       [ 0.28319459],\n",
       "       [ 0.40301372],\n",
       "       [ 0.91914715],\n",
       "       [ 0.85302178],\n",
       "       [ 0.72809618],\n",
       "       [ 0.69522519],\n",
       "       [ 0.74128873],\n",
       "       [ 1.12148253],\n",
       "       [ 0.31348149],\n",
       "       [ 0.15886197],\n",
       "       [ 1.14238321],\n",
       "       [ 0.58142366],\n",
       "       [ 0.63441282],\n",
       "       [ 0.78653423],\n",
       "       [ 0.1266058 ],\n",
       "       [ 0.71361229],\n",
       "       [ 0.31747691],\n",
       "       [ 0.27138582],\n",
       "       [ 0.28428302],\n",
       "       [ 0.3412726 ],\n",
       "       [-0.17793657],\n",
       "       [ 0.1885263 ],\n",
       "       [ 0.44555121],\n",
       "       [ 0.81771394],\n",
       "       [ 1.13483068],\n",
       "       [ 0.03986469],\n",
       "       [ 0.2183785 ],\n",
       "       [ 0.28051873],\n",
       "       [ 0.83522882],\n",
       "       [ 1.10940232],\n",
       "       [ 0.01149038],\n",
       "       [ 0.07167449],\n",
       "       [ 0.42080719],\n",
       "       [ 0.51380249],\n",
       "       [ 0.71002156],\n",
       "       [ 0.93526452],\n",
       "       [ 0.12712055],\n",
       "       [ 0.86976983],\n",
       "       [ 0.78568792],\n",
       "       [ 0.5796778 ],\n",
       "       [ 0.74263703],\n",
       "       [ 0.94421162],\n",
       "       [ 0.50597926],\n",
       "       [ 0.58255616],\n",
       "       [ 0.45709798],\n",
       "       [ 0.86282098],\n",
       "       [ 0.22368454],\n",
       "       [ 0.44766502],\n",
       "       [ 1.17950285],\n",
       "       [ 0.96834498],\n",
       "       [-0.28541733],\n",
       "       [ 0.74352639],\n",
       "       [ 0.20297184],\n",
       "       [ 0.25814162],\n",
       "       [ 1.19163948],\n",
       "       [ 0.65803635],\n",
       "       [ 0.8353473 ],\n",
       "       [ 0.15107816],\n",
       "       [ 1.27763893],\n",
       "       [-0.10278718],\n",
       "       [ 0.85576501],\n",
       "       [ 0.29302983],\n",
       "       [ 0.6101296 ],\n",
       "       [ 0.53092058],\n",
       "       [ 0.82073588],\n",
       "       [ 0.06970292],\n",
       "       [ 0.6008647 ],\n",
       "       [ 0.0605822 ],\n",
       "       [ 1.33026654],\n",
       "       [ 0.82557609],\n",
       "       [ 0.79882205],\n",
       "       [ 0.18375124],\n",
       "       [ 0.25765667],\n",
       "       [ 0.08194564],\n",
       "       [ 0.89325088],\n",
       "       [ 0.45686332],\n",
       "       [ 0.23112617],\n",
       "       [ 0.45241724],\n",
       "       [ 0.27064947],\n",
       "       [ 0.29760836],\n",
       "       [ 0.44489519],\n",
       "       [ 0.04504446],\n",
       "       [ 0.31810039],\n",
       "       [ 0.9601098 ],\n",
       "       [ 0.45474618],\n",
       "       [ 0.02145311],\n",
       "       [ 0.12933712],\n",
       "       [ 1.06480962],\n",
       "       [-0.05932134],\n",
       "       [ 0.68237435],\n",
       "       [ 0.09698967],\n",
       "       [ 0.08073413],\n",
       "       [ 0.73353093],\n",
       "       [-0.07870834],\n",
       "       [ 0.3808844 ],\n",
       "       [ 0.67869956],\n",
       "       [ 0.25801215],\n",
       "       [ 0.20757504],\n",
       "       [ 0.18611814],\n",
       "       [ 0.7678768 ],\n",
       "       [-0.03721139],\n",
       "       [ 0.21415362],\n",
       "       [ 0.44911624],\n",
       "       [ 0.44819489],\n",
       "       [ 0.90260154],\n",
       "       [ 0.3095179 ],\n",
       "       [ 0.84422671],\n",
       "       [ 0.4438957 ],\n",
       "       [ 0.34811319],\n",
       "       [ 1.43929439],\n",
       "       [ 0.43596104],\n",
       "       [ 1.15392464],\n",
       "       [-0.00476287],\n",
       "       [ 0.70581646],\n",
       "       [ 0.16657514],\n",
       "       [-0.02949123],\n",
       "       [ 0.16300456],\n",
       "       [ 0.83911789],\n",
       "       [ 0.09039697],\n",
       "       [ 0.01416681],\n",
       "       [ 0.83922147],\n",
       "       [ 1.17852592],\n",
       "       [ 0.65924603],\n",
       "       [ 0.36754731],\n",
       "       [ 0.31584029],\n",
       "       [ 0.79326735],\n",
       "       [ 0.43644564],\n",
       "       [ 1.4723399 ],\n",
       "       [ 0.58574176],\n",
       "       [ 0.30959325],\n",
       "       [ 0.49087631],\n",
       "       [ 0.96079766],\n",
       "       [ 0.920713  ],\n",
       "       [ 1.33588752],\n",
       "       [ 0.25022745],\n",
       "       [ 0.4732645 ],\n",
       "       [ 0.12907052],\n",
       "       [ 0.1122186 ],\n",
       "       [ 0.34804839],\n",
       "       [ 1.0784744 ],\n",
       "       [ 0.67301076],\n",
       "       [ 0.20004714],\n",
       "       [ 0.22175477],\n",
       "       [ 0.43191548],\n",
       "       [ 0.142477  ],\n",
       "       [ 0.50726239],\n",
       "       [ 0.22863547],\n",
       "       [ 0.56495244],\n",
       "       [ 0.42003256],\n",
       "       [ 0.44440904],\n",
       "       [ 0.79952165],\n",
       "       [-0.06691338],\n",
       "       [ 0.79859158],\n",
       "       [ 0.85805661],\n",
       "       [ 0.03559147],\n",
       "       [ 0.11410217],\n",
       "       [ 0.45124786],\n",
       "       [ 0.35468734],\n",
       "       [ 0.63036239],\n",
       "       [ 0.49074174],\n",
       "       [ 0.45098969],\n",
       "       [ 0.86253222],\n",
       "       [ 0.37876177]])"
      ]
     },
     "execution_count": 62,
     "metadata": {},
     "output_type": "execute_result"
    }
   ],
   "source": [
    "rid.predict(X_test)"
   ]
  },
  {
   "cell_type": "code",
   "execution_count": 63,
   "metadata": {},
   "outputs": [
    {
     "data": {
      "text/plain": [
       "(496, 1)"
      ]
     },
     "execution_count": 63,
     "metadata": {},
     "output_type": "execute_result"
    }
   ],
   "source": [
    "rid.predict(X_test).shape"
   ]
  },
  {
   "cell_type": "code",
   "execution_count": 64,
   "metadata": {},
   "outputs": [],
   "source": [
    "Y_pred = np.round(rid.predict(X_test))\n",
    "Y_pred = np.reshape(Y_pred, (496,1))"
   ]
  },
  {
   "cell_type": "code",
   "execution_count": 65,
   "metadata": {},
   "outputs": [
    {
     "name": "stdout",
     "output_type": "stream",
     "text": [
      "(496, 1) (496, 1) (496, 1)\n"
     ]
    }
   ],
   "source": [
    "print(Y_pred.shape, Y_test.shape, (Y_pred-Y_test).shape)"
   ]
  },
  {
   "cell_type": "code",
   "execution_count": 66,
   "metadata": {},
   "outputs": [
    {
     "data": {
      "text/plain": [
       "0.8649193548387097"
      ]
     },
     "execution_count": 66,
     "metadata": {},
     "output_type": "execute_result"
    }
   ],
   "source": [
    "1 - np.sum(abs(Y_pred-Y_test)) / Y_pred.shape[0]"
   ]
  },
  {
   "cell_type": "code",
   "execution_count": 67,
   "metadata": {},
   "outputs": [
    {
     "data": {
      "text/plain": [
       "67.0"
      ]
     },
     "execution_count": 67,
     "metadata": {},
     "output_type": "execute_result"
    }
   ],
   "source": [
    "np.sum(abs(Y_pred-Y_test))"
   ]
  },
  {
   "cell_type": "code",
   "execution_count": 68,
   "metadata": {},
   "outputs": [
    {
     "data": {
      "text/plain": [
       "(1, 33)"
      ]
     },
     "execution_count": 68,
     "metadata": {},
     "output_type": "execute_result"
    }
   ],
   "source": [
    "rid.coef_.shape"
   ]
  },
  {
   "cell_type": "code",
   "execution_count": 69,
   "metadata": {},
   "outputs": [
    {
     "data": {
      "text/plain": [
       "array([[-0.09110023,  0.0050454 , -0.12031999, -0.122536  , -0.0053089 ,\n",
       "        -0.00248258,  0.32111389,  1.99203903,  0.01182824,  0.1550237 ,\n",
       "         0.3136468 ,  0.00236169, -1.80775055, -0.31641148, -0.02419906,\n",
       "        -0.62661718,  0.02912121,  0.059301  , -0.54655092,  0.83550675,\n",
       "         0.08258066, -0.07142199, -0.09936293, -0.09201025,  0.07539946,\n",
       "         0.45410817,  0.07530351, -0.12608097, -0.08274137, -0.68630659,\n",
       "        -0.08525036, -0.00391572,  0.09275973]])"
      ]
     },
     "execution_count": 69,
     "metadata": {},
     "output_type": "execute_result"
    }
   ],
   "source": [
    "rid.coef_"
   ]
  },
  {
   "cell_type": "code",
   "execution_count": 70,
   "metadata": {},
   "outputs": [
    {
     "ename": "ValueError",
     "evalue": "shape mismatch: objects cannot be broadcast to a single shape",
     "output_type": "error",
     "traceback": [
      "\u001b[1;31m---------------------------------------------------------------------------\u001b[0m",
      "\u001b[1;31mValueError\u001b[0m                                Traceback (most recent call last)",
      "\u001b[1;32m<ipython-input-70-472f0b389d4f>\u001b[0m in \u001b[0;36m<module>\u001b[1;34m\u001b[0m\n\u001b[0;32m      4\u001b[0m \u001b[0mx\u001b[0m   \u001b[1;33m=\u001b[0m \u001b[0mnp\u001b[0m\u001b[1;33m.\u001b[0m\u001b[0marange\u001b[0m\u001b[1;33m(\u001b[0m\u001b[1;36m13\u001b[0m\u001b[1;33m)\u001b[0m\u001b[1;33m\u001b[0m\u001b[1;33m\u001b[0m\u001b[0m\n\u001b[0;32m      5\u001b[0m \u001b[0my\u001b[0m   \u001b[1;33m=\u001b[0m \u001b[0mrid\u001b[0m\u001b[1;33m.\u001b[0m\u001b[0mcoef_\u001b[0m\u001b[1;33m\u001b[0m\u001b[1;33m\u001b[0m\u001b[0m\n\u001b[1;32m----> 6\u001b[1;33m \u001b[0max\u001b[0m\u001b[1;33m.\u001b[0m\u001b[0mbar\u001b[0m\u001b[1;33m(\u001b[0m\u001b[0mx\u001b[0m\u001b[1;33m,\u001b[0m \u001b[0my\u001b[0m\u001b[1;33m)\u001b[0m\u001b[1;33m\u001b[0m\u001b[1;33m\u001b[0m\u001b[0m\n\u001b[0m\u001b[0;32m      7\u001b[0m \u001b[0mplt\u001b[0m\u001b[1;33m.\u001b[0m\u001b[0mshow\u001b[0m\u001b[1;33m(\u001b[0m\u001b[1;33m)\u001b[0m\u001b[1;33m\u001b[0m\u001b[1;33m\u001b[0m\u001b[0m\n",
      "\u001b[1;32m~\\miniconda3\\envs\\gpu\\lib\\site-packages\\matplotlib\\__init__.py\u001b[0m in \u001b[0;36minner\u001b[1;34m(ax, data, *args, **kwargs)\u001b[0m\n\u001b[0;32m   1563\u001b[0m     \u001b[1;32mdef\u001b[0m \u001b[0minner\u001b[0m\u001b[1;33m(\u001b[0m\u001b[0max\u001b[0m\u001b[1;33m,\u001b[0m \u001b[1;33m*\u001b[0m\u001b[0margs\u001b[0m\u001b[1;33m,\u001b[0m \u001b[0mdata\u001b[0m\u001b[1;33m=\u001b[0m\u001b[1;32mNone\u001b[0m\u001b[1;33m,\u001b[0m \u001b[1;33m**\u001b[0m\u001b[0mkwargs\u001b[0m\u001b[1;33m)\u001b[0m\u001b[1;33m:\u001b[0m\u001b[1;33m\u001b[0m\u001b[1;33m\u001b[0m\u001b[0m\n\u001b[0;32m   1564\u001b[0m         \u001b[1;32mif\u001b[0m \u001b[0mdata\u001b[0m \u001b[1;32mis\u001b[0m \u001b[1;32mNone\u001b[0m\u001b[1;33m:\u001b[0m\u001b[1;33m\u001b[0m\u001b[1;33m\u001b[0m\u001b[0m\n\u001b[1;32m-> 1565\u001b[1;33m             \u001b[1;32mreturn\u001b[0m \u001b[0mfunc\u001b[0m\u001b[1;33m(\u001b[0m\u001b[0max\u001b[0m\u001b[1;33m,\u001b[0m \u001b[1;33m*\u001b[0m\u001b[0mmap\u001b[0m\u001b[1;33m(\u001b[0m\u001b[0msanitize_sequence\u001b[0m\u001b[1;33m,\u001b[0m \u001b[0margs\u001b[0m\u001b[1;33m)\u001b[0m\u001b[1;33m,\u001b[0m \u001b[1;33m**\u001b[0m\u001b[0mkwargs\u001b[0m\u001b[1;33m)\u001b[0m\u001b[1;33m\u001b[0m\u001b[1;33m\u001b[0m\u001b[0m\n\u001b[0m\u001b[0;32m   1566\u001b[0m \u001b[1;33m\u001b[0m\u001b[0m\n\u001b[0;32m   1567\u001b[0m         \u001b[0mbound\u001b[0m \u001b[1;33m=\u001b[0m \u001b[0mnew_sig\u001b[0m\u001b[1;33m.\u001b[0m\u001b[0mbind\u001b[0m\u001b[1;33m(\u001b[0m\u001b[0max\u001b[0m\u001b[1;33m,\u001b[0m \u001b[1;33m*\u001b[0m\u001b[0margs\u001b[0m\u001b[1;33m,\u001b[0m \u001b[1;33m**\u001b[0m\u001b[0mkwargs\u001b[0m\u001b[1;33m)\u001b[0m\u001b[1;33m\u001b[0m\u001b[1;33m\u001b[0m\u001b[0m\n",
      "\u001b[1;32m~\\miniconda3\\envs\\gpu\\lib\\site-packages\\matplotlib\\axes\\_axes.py\u001b[0m in \u001b[0;36mbar\u001b[1;34m(self, x, height, width, bottom, align, **kwargs)\u001b[0m\n\u001b[0;32m   2340\u001b[0m         x, height, width, y, linewidth = np.broadcast_arrays(\n\u001b[0;32m   2341\u001b[0m             \u001b[1;31m# Make args iterable too.\u001b[0m\u001b[1;33m\u001b[0m\u001b[1;33m\u001b[0m\u001b[1;33m\u001b[0m\u001b[0m\n\u001b[1;32m-> 2342\u001b[1;33m             np.atleast_1d(x), height, width, y, linewidth)\n\u001b[0m\u001b[0;32m   2343\u001b[0m \u001b[1;33m\u001b[0m\u001b[0m\n\u001b[0;32m   2344\u001b[0m         \u001b[1;31m# Now that units have been converted, set the tick locations.\u001b[0m\u001b[1;33m\u001b[0m\u001b[1;33m\u001b[0m\u001b[1;33m\u001b[0m\u001b[0m\n",
      "\u001b[1;32m<__array_function__ internals>\u001b[0m in \u001b[0;36mbroadcast_arrays\u001b[1;34m(*args, **kwargs)\u001b[0m\n",
      "\u001b[1;32m~\\AppData\\Roaming\\Python\\Python36\\site-packages\\numpy\\lib\\stride_tricks.py\u001b[0m in \u001b[0;36mbroadcast_arrays\u001b[1;34m(*args, **kwargs)\u001b[0m\n\u001b[0;32m    262\u001b[0m     \u001b[0margs\u001b[0m \u001b[1;33m=\u001b[0m \u001b[1;33m[\u001b[0m\u001b[0mnp\u001b[0m\u001b[1;33m.\u001b[0m\u001b[0marray\u001b[0m\u001b[1;33m(\u001b[0m\u001b[0m_m\u001b[0m\u001b[1;33m,\u001b[0m \u001b[0mcopy\u001b[0m\u001b[1;33m=\u001b[0m\u001b[1;32mFalse\u001b[0m\u001b[1;33m,\u001b[0m \u001b[0msubok\u001b[0m\u001b[1;33m=\u001b[0m\u001b[0msubok\u001b[0m\u001b[1;33m)\u001b[0m \u001b[1;32mfor\u001b[0m \u001b[0m_m\u001b[0m \u001b[1;32min\u001b[0m \u001b[0margs\u001b[0m\u001b[1;33m]\u001b[0m\u001b[1;33m\u001b[0m\u001b[1;33m\u001b[0m\u001b[0m\n\u001b[0;32m    263\u001b[0m \u001b[1;33m\u001b[0m\u001b[0m\n\u001b[1;32m--> 264\u001b[1;33m     \u001b[0mshape\u001b[0m \u001b[1;33m=\u001b[0m \u001b[0m_broadcast_shape\u001b[0m\u001b[1;33m(\u001b[0m\u001b[1;33m*\u001b[0m\u001b[0margs\u001b[0m\u001b[1;33m)\u001b[0m\u001b[1;33m\u001b[0m\u001b[1;33m\u001b[0m\u001b[0m\n\u001b[0m\u001b[0;32m    265\u001b[0m \u001b[1;33m\u001b[0m\u001b[0m\n\u001b[0;32m    266\u001b[0m     \u001b[1;32mif\u001b[0m \u001b[0mall\u001b[0m\u001b[1;33m(\u001b[0m\u001b[0marray\u001b[0m\u001b[1;33m.\u001b[0m\u001b[0mshape\u001b[0m \u001b[1;33m==\u001b[0m \u001b[0mshape\u001b[0m \u001b[1;32mfor\u001b[0m \u001b[0marray\u001b[0m \u001b[1;32min\u001b[0m \u001b[0margs\u001b[0m\u001b[1;33m)\u001b[0m\u001b[1;33m:\u001b[0m\u001b[1;33m\u001b[0m\u001b[1;33m\u001b[0m\u001b[0m\n",
      "\u001b[1;32m~\\AppData\\Roaming\\Python\\Python36\\site-packages\\numpy\\lib\\stride_tricks.py\u001b[0m in \u001b[0;36m_broadcast_shape\u001b[1;34m(*args)\u001b[0m\n\u001b[0;32m    189\u001b[0m     \u001b[1;31m# use the old-iterator because np.nditer does not handle size 0 arrays\u001b[0m\u001b[1;33m\u001b[0m\u001b[1;33m\u001b[0m\u001b[1;33m\u001b[0m\u001b[0m\n\u001b[0;32m    190\u001b[0m     \u001b[1;31m# consistently\u001b[0m\u001b[1;33m\u001b[0m\u001b[1;33m\u001b[0m\u001b[1;33m\u001b[0m\u001b[0m\n\u001b[1;32m--> 191\u001b[1;33m     \u001b[0mb\u001b[0m \u001b[1;33m=\u001b[0m \u001b[0mnp\u001b[0m\u001b[1;33m.\u001b[0m\u001b[0mbroadcast\u001b[0m\u001b[1;33m(\u001b[0m\u001b[1;33m*\u001b[0m\u001b[0margs\u001b[0m\u001b[1;33m[\u001b[0m\u001b[1;33m:\u001b[0m\u001b[1;36m32\u001b[0m\u001b[1;33m]\u001b[0m\u001b[1;33m)\u001b[0m\u001b[1;33m\u001b[0m\u001b[1;33m\u001b[0m\u001b[0m\n\u001b[0m\u001b[0;32m    192\u001b[0m     \u001b[1;31m# unfortunately, it cannot handle 32 or more arguments directly\u001b[0m\u001b[1;33m\u001b[0m\u001b[1;33m\u001b[0m\u001b[1;33m\u001b[0m\u001b[0m\n\u001b[0;32m    193\u001b[0m     \u001b[1;32mfor\u001b[0m \u001b[0mpos\u001b[0m \u001b[1;32min\u001b[0m \u001b[0mrange\u001b[0m\u001b[1;33m(\u001b[0m\u001b[1;36m32\u001b[0m\u001b[1;33m,\u001b[0m \u001b[0mlen\u001b[0m\u001b[1;33m(\u001b[0m\u001b[0margs\u001b[0m\u001b[1;33m)\u001b[0m\u001b[1;33m,\u001b[0m \u001b[1;36m31\u001b[0m\u001b[1;33m)\u001b[0m\u001b[1;33m:\u001b[0m\u001b[1;33m\u001b[0m\u001b[1;33m\u001b[0m\u001b[0m\n",
      "\u001b[1;31mValueError\u001b[0m: shape mismatch: objects cannot be broadcast to a single shape"
     ]
    },
    {
     "data": {
      "image/png": "[encoded data removed]",
      "text/plain": [
       "<Figure size 432x288 with 1 Axes>"
      ]
     },
     "metadata": {
      "needs_background": "light"
     },
     "output_type": "display_data"
    }
   ],
   "source": [
    "import matplotlib.pyplot as plt\n",
    "fig = plt.figure()\n",
    "ax  = fig.add_axes([0,0,1,1])\n",
    "x   = np.arange(13)\n",
    "y   = rid.coef_\n",
    "ax.bar(x, y)\n",
    "plt.show()"
   ]
  },
  {
   "cell_type": "code",
   "execution_count": null,
   "metadata": {},
   "outputs": [],
   "source": []
  }
 ],
 "metadata": {
  "kernelspec": {
   "display_name": "gpu",
   "language": "python",
   "name": "gpu"
  },
  "language_info": {
   "codemirror_mode": {
    "name": "ipython",
    "version": 3
   },
   "file_extension": ".py",
   "mimetype": "text/x-python",
   "name": "python",
   "nbconvert_exporter": "python",
   "pygments_lexer": "ipython3",
   "version": "3.6.10"
  }
 },
 "nbformat": 4,
 "nbformat_minor": 2
}
