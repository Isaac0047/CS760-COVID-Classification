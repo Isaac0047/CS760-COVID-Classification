{
 "cells": [
  {
   "cell_type": "code",
   "execution_count": 1,
   "metadata": {},
   "outputs": [],
   "source": [
    "import tensorflow as tf\n",
    "tf.compat.v1.enable_eager_execution()\n",
    "import os\n",
    "import numpy as np\n",
    "import matplotlib.pyplot as plt\n",
    "from sklearn.model_selection import train_test_split"
   ]
  },
  {
   "cell_type": "code",
   "execution_count": 2,
   "metadata": {},
   "outputs": [],
   "source": [
    "# Choose GPU to use\n",
    "os.environ[\"CUDA_DEVICE_ORDER\"]=\"PCI_BUS_ID\";\n",
    "\n",
    "# The GPU ID to use, usually either \"0\" or \"1\"\n",
    "os.environ[\"CUDA_VISIBLE_DEVICES\"]=\"0\";\n",
    "\n",
    "Config=tf.compat.v1.ConfigProto(allow_soft_placement=True)\n",
    "Config.gpu_options.allow_growth=True"
   ]
  },
  {
   "cell_type": "code",
   "execution_count": 3,
   "metadata": {},
   "outputs": [],
   "source": [
    "Img_CVD     = 'C:\\\\Users\\\\Haoti\\\\.spyder-py3\\\\CS760_Final_Project\\\\COVID\\\\Covid' + ' (1)' + '.png'\n",
    "Img_non_CVD = 'C:\\\\Users\\\\Haoti\\\\.spyder-py3\\\\CS760_Final_Project\\\\non-COVID\\\\Non-Covid' + ' (1)' + '.png'"
   ]
  },
  {
   "cell_type": "code",
   "execution_count": 4,
   "metadata": {},
   "outputs": [
    {
     "name": "stdout",
     "output_type": "stream",
     "text": [
      "Pillow Version: 7.2.0\n"
     ]
    }
   ],
   "source": [
    "import PIL\n",
    "print('Pillow Version:', PIL.__version__)"
   ]
  },
  {
   "cell_type": "code",
   "execution_count": 5,
   "metadata": {},
   "outputs": [],
   "source": [
    "# from PIL import Image\n",
    "# image = Image.open(Img_CVD)"
   ]
  },
  {
   "cell_type": "code",
   "execution_count": 6,
   "metadata": {},
   "outputs": [],
   "source": [
    "from matplotlib import image\n",
    "image1 = image.imread(Img_CVD)\n",
    "image2 = image.imread(Img_non_CVD)"
   ]
  },
  {
   "cell_type": "code",
   "execution_count": 7,
   "metadata": {},
   "outputs": [
    {
     "name": "stdout",
     "output_type": "stream",
     "text": [
      "(202, 256, 3)\n"
     ]
    }
   ],
   "source": [
    "print(image1.shape)"
   ]
  },
  {
   "cell_type": "code",
   "execution_count": 8,
   "metadata": {},
   "outputs": [
    {
     "name": "stdout",
     "output_type": "stream",
     "text": [
      "(229, 321, 4)\n"
     ]
    }
   ],
   "source": [
    "print(image2.shape)"
   ]
  },
  {
   "cell_type": "code",
   "execution_count": 9,
   "metadata": {},
   "outputs": [],
   "source": [
    "# print(image1)"
   ]
  },
  {
   "cell_type": "code",
   "execution_count": 10,
   "metadata": {},
   "outputs": [],
   "source": [
    "# print(image2)"
   ]
  },
  {
   "cell_type": "code",
   "execution_count": 11,
   "metadata": {},
   "outputs": [
    {
     "name": "stdout",
     "output_type": "stream",
     "text": [
      "Number of Covid files is 1252\n",
      "Number of non Covid files is 1229\n"
     ]
    }
   ],
   "source": [
    "Img_CVD_path     = 'C:\\\\Users\\\\Haoti\\\\.spyder-py3\\\\CS760_Final_Project\\\\COVID\\\\'\n",
    "Img_non_CVD_path = 'C:\\\\Users\\\\Haoti\\\\.spyder-py3\\\\CS760_Final_Project\\\\non-COVID\\\\'\n",
    "import os, os.path\n",
    "list_COVID     = os.listdir(Img_CVD_path)\n",
    "list_non_COVID = os.listdir(Img_non_CVD_path)\n",
    "N_COVID     = len(list_COVID)\n",
    "N_non_COVID = len(list_non_COVID)\n",
    "print('Number of Covid files is', N_COVID)\n",
    "print('Number of non Covid files is', N_non_COVID)"
   ]
  },
  {
   "cell_type": "code",
   "execution_count": 12,
   "metadata": {},
   "outputs": [],
   "source": [
    "L_COVID     = np.zeros((N_COVID, 3))\n",
    "L_non_COVID = np.zeros((N_non_COVID, 3))\n",
    "\n",
    "for i in range(N_COVID):\n",
    "    image_COVID = image.imread(Img_CVD_path + 'Covid (' + str(i+1) + ').png')\n",
    "    L_COVID[i,:] = image_COVID.shape\n",
    "    \n",
    "for j in range(N_non_COVID):\n",
    "    if j+1 < 151:\n",
    "        image_non_COVID  = image.imread(Img_non_CVD_path + 'Non-Covid (' + str(j+1) + ').png')\n",
    "    elif j+1 > 151:\n",
    "        image_non_COVID  = image.imread(Img_non_CVD_path + 'Non-Covid (' + str(j+1) + ').png')\n",
    "    \n",
    "    L_non_COVID[j,:] = image_non_COVID.shape"
   ]
  },
  {
   "cell_type": "code",
   "execution_count": 14,
   "metadata": {},
   "outputs": [],
   "source": [
    "X_COVID = np.max(L_COVID[:,0])\n",
    "Y_COVID = np.max(L_COVID[:,1])\n",
    "Z_COVID = np.max(L_COVID[:,2])\n",
    "\n",
    "X_non_COVID = np.max(L_non_COVID[:,0])\n",
    "Y_non_COVID = np.max(L_non_COVID[:,1])\n",
    "Z_non_COVID = np.max(L_non_COVID[:,2])"
   ]
  },
  {
   "cell_type": "code",
   "execution_count": 15,
   "metadata": {},
   "outputs": [
    {
     "name": "stdout",
     "output_type": "stream",
     "text": [
      "408.0 534.0 4.0 416.0 502.0 4.0\n"
     ]
    }
   ],
   "source": [
    "print(X_COVID, Y_COVID, Z_COVID, X_non_COVID, Y_non_COVID, Z_non_COVID)"
   ]
  },
  {
   "cell_type": "code",
   "execution_count": 16,
   "metadata": {},
   "outputs": [
    {
     "data": {
      "text/plain": [
       "array([202., 256.,   3.])"
      ]
     },
     "execution_count": 16,
     "metadata": {},
     "output_type": "execute_result"
    }
   ],
   "source": [
    "L_COVID[0,:]"
   ]
  },
  {
   "cell_type": "code",
   "execution_count": 17,
   "metadata": {},
   "outputs": [
    {
     "data": {
      "text/plain": [
       "array([254., 342.,   3.])"
      ]
     },
     "execution_count": 17,
     "metadata": {},
     "output_type": "execute_result"
    }
   ],
   "source": [
    "L_COVID[1,:]"
   ]
  },
  {
   "cell_type": "code",
   "execution_count": 18,
   "metadata": {},
   "outputs": [
    {
     "data": {
      "text/plain": [
       "array([254., 342.,   3.])"
      ]
     },
     "execution_count": 18,
     "metadata": {},
     "output_type": "execute_result"
    }
   ],
   "source": [
    "L_COVID[2,:]"
   ]
  },
  {
   "cell_type": "code",
   "execution_count": 19,
   "metadata": {},
   "outputs": [
    {
     "data": {
      "text/plain": [
       "array([260., 365.,   3.])"
      ]
     },
     "execution_count": 19,
     "metadata": {},
     "output_type": "execute_result"
    }
   ],
   "source": [
    "L_COVID[3,:]"
   ]
  },
  {
   "cell_type": "code",
   "execution_count": 20,
   "metadata": {},
   "outputs": [
    {
     "data": {
      "text/plain": [
       "array([313., 421.,   3.])"
      ]
     },
     "execution_count": 20,
     "metadata": {},
     "output_type": "execute_result"
    }
   ],
   "source": [
    "L_COVID[300,:]"
   ]
  },
  {
   "cell_type": "code",
   "execution_count": 21,
   "metadata": {},
   "outputs": [
    {
     "data": {
      "text/plain": [
       "array([229., 321.,   4.])"
      ]
     },
     "execution_count": 21,
     "metadata": {},
     "output_type": "execute_result"
    }
   ],
   "source": [
    "L_non_COVID[0,:]"
   ]
  },
  {
   "cell_type": "code",
   "execution_count": 22,
   "metadata": {},
   "outputs": [],
   "source": [
    "# Resizing Image into same size (one sample)\n",
    "from PIL import Image\n",
    "im = Image.open(Img_CVD)\n",
    "im.show()\n",
    "resized_im = im.resize((int(Y_COVID), int(Y_COVID)), resample=3, reducing_gap=None)\n",
    "resized_im.show()"
   ]
  },
  {
   "cell_type": "code",
   "execution_count": 23,
   "metadata": {},
   "outputs": [],
   "source": [
    "# Resizing Image into same size (all sample)\n",
    "from PIL import Image\n",
    "\n",
    "Img_CVD_path_1     = 'C:\\\\Users\\\\Haoti\\\\.spyder-py3\\\\CS760_Final_Project\\\\COVID-new-1\\\\'\n",
    "Img_non_CVD_path_1 = 'C:\\\\Users\\\\Haoti\\\\.spyder-py3\\\\CS760_Final_Project\\\\non-COVID-new-1\\\\'\n",
    "\n",
    "for i in range(N_COVID):\n",
    "    image_COVID = Image.open(Img_CVD_path + 'Covid (' + str(i+1) + ').png')\n",
    "    image_COVID = image_COVID.resize((int(200), int(200)), resample=3, reducing_gap=None)\n",
    "    image_COVID = image_COVID.convert('RGB')\n",
    "    image_COVID.save(Img_CVD_path_1 + 'Covid (' + str(i+1) + ').png')"
   ]
  },
  {
   "cell_type": "code",
   "execution_count": 24,
   "metadata": {},
   "outputs": [],
   "source": [
    "for j in range(N_non_COVID):\n",
    "    if j+1 < 151:\n",
    "        image_non_COVID  = Image.open(Img_non_CVD_path + 'Non-Covid (' + str(j+1) + ').png')\n",
    "        image_non_COVID  = image_non_COVID.resize((int(200), int(200)), resample=3, reducing_gap=None)\n",
    "        image_non_COVID  = image_non_COVID.convert('RGB')\n",
    "        image_non_COVID.save(Img_non_CVD_path_1 + 'Non-Covid (' + str(j+1) + ').png')\n",
    "        \n",
    "    elif j+1 > 151:\n",
    "        image_non_COVID  = Image.open(Img_non_CVD_path + 'Non-Covid (' + str(j+1) + ').png')\n",
    "        image_non_COVID  = image_non_COVID.resize((int(200), int(200)), resample=3, reducing_gap=None)\n",
    "        image_non_COVID  = image_non_COVID.convert('RGB')\n",
    "        image_non_COVID.save(Img_non_CVD_path_1 + 'Non-Covid (' + str(j) + ').png')"
   ]
  },
  {
   "cell_type": "code",
   "execution_count": 38,
   "metadata": {},
   "outputs": [],
   "source": [
    "# Reload Image data from new folder"
   ]
  },
  {
   "cell_type": "code",
   "execution_count": 25,
   "metadata": {},
   "outputs": [
    {
     "name": "stdout",
     "output_type": "stream",
     "text": [
      "<PIL.Image.Image image mode=RGB size=200x200 at 0x177A4DD1C50>\n"
     ]
    }
   ],
   "source": [
    "print(image_non_COVID)"
   ]
  },
  {
   "cell_type": "code",
   "execution_count": null,
   "metadata": {},
   "outputs": [],
   "source": []
  }
 ],
 "metadata": {
  "kernelspec": {
   "display_name": "gpu",
   "language": "python",
   "name": "gpu"
  },
  "language_info": {
   "codemirror_mode": {
    "name": "ipython",
    "version": 3
   },
   "file_extension": ".py",
   "mimetype": "text/x-python",
   "name": "python",
   "nbconvert_exporter": "python",
   "pygments_lexer": "ipython3",
   "version": "3.6.10"
  }
 },
 "nbformat": 4,
 "nbformat_minor": 2
}
